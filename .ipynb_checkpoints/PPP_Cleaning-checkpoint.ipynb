{
 "cells": [
  {
   "cell_type": "markdown",
   "id": "d25d236b",
   "metadata": {},
   "source": [
    "# Dataset From:\n",
    "https://data.ny.gov/Economic-Development/US-SBA-COVID-19-Relief-to-NYS-Business-Paycheck-Pr/y8zq-jmz6"
   ]
  },
  {
   "cell_type": "code",
   "execution_count": 1,
   "id": "2bec9a22",
   "metadata": {},
   "outputs": [],
   "source": [
    "import numpy as np \n",
    "import pandas as pd"
   ]
  },
  {
   "cell_type": "code",
   "execution_count": 2,
   "id": "2631ab8e",
   "metadata": {},
   "outputs": [],
   "source": [
    "#setup spark\n",
    "from pyspark import SparkContext, SparkConf\n",
    "cf = SparkConf()\n",
    "cf.set(\"spark.submit.deployMode\",\"client\")\n",
    "sc = SparkContext.getOrCreate(cf)\n",
    "from pyspark.sql import SparkSession\n",
    "spark = SparkSession \\\n",
    "\t    .builder \\\n",
    "\t    .appName(\"Python Spark SQL basic example\") \\\n",
    "\t    .config(\"spark.some.config.option\", \"some-value\") \\\n",
    "\t    .getOrCreate()\n",
    "                          "
   ]
  },
  {
   "cell_type": "code",
   "execution_count": 3,
   "id": "b3db2587",
   "metadata": {},
   "outputs": [],
   "source": [
    "#read in data\n",
    "filepath = 'data/US_SBA_COVID-19_Relief_to_NYS_Business___Paycheck_Protection_Program.csv'\n",
    "relief = spark.read.csv(path = filepath, header=True)"
   ]
  },
  {
   "cell_type": "code",
   "execution_count": 4,
   "id": "244ce2d8",
   "metadata": {},
   "outputs": [
    {
     "name": "stdout",
     "output_type": "stream",
     "text": [
      "root\n",
      " |-- LoanNumber: string (nullable = true)\n",
      " |-- DateApproved_Year: string (nullable = true)\n",
      " |-- DateApproved_Month: string (nullable = true)\n",
      " |-- DateApproved_Day: string (nullable = true)\n",
      " |-- SBAOfficeCode: string (nullable = true)\n",
      " |-- ProcessingMethod: string (nullable = true)\n",
      " |-- BorrowerName: string (nullable = true)\n",
      " |-- BorrowerAddress: string (nullable = true)\n",
      " |-- BorrowerCity: string (nullable = true)\n",
      " |-- BorrowerState: string (nullable = true)\n",
      " |-- BorrowerZip: string (nullable = true)\n",
      " |-- LoanStatusDate_Year: string (nullable = true)\n",
      " |-- LoanStatusDate_Month: string (nullable = true)\n",
      " |-- LoanStatusDate_Day: string (nullable = true)\n",
      " |-- LoanStatus: string (nullable = true)\n",
      " |-- Term: string (nullable = true)\n",
      " |-- SBAGuarantyPercentage: string (nullable = true)\n",
      " |-- InitialApprovalAmount: string (nullable = true)\n",
      " |-- CurrentApprovalAmount: string (nullable = true)\n",
      " |-- UndisbursedAmount: string (nullable = true)\n",
      " |-- FranchiseName: string (nullable = true)\n",
      " |-- ServicingLenderLocationID: string (nullable = true)\n",
      " |-- ServicingLenderName: string (nullable = true)\n",
      " |-- ServicingLenderAddress: string (nullable = true)\n",
      " |-- ServicingLenderCity: string (nullable = true)\n",
      " |-- ServicingLenderState: string (nullable = true)\n",
      " |-- ServicingLenderZip: string (nullable = true)\n",
      " |-- RuralUrbanIndicator: string (nullable = true)\n",
      " |-- HubzoneIndicator: string (nullable = true)\n",
      " |-- LMIIndicator: string (nullable = true)\n",
      " |-- BusinessAgeDescription: string (nullable = true)\n",
      " |-- ProjectCity: string (nullable = true)\n",
      " |-- ProjectCountyName: string (nullable = true)\n",
      " |-- ProjectState: string (nullable = true)\n",
      " |-- ProjectZip: string (nullable = true)\n",
      " |-- CD: string (nullable = true)\n",
      " |-- JobsReported: string (nullable = true)\n",
      " |-- NAICSCode: string (nullable = true)\n",
      " |-- Race: string (nullable = true)\n",
      " |-- Ethnicity: string (nullable = true)\n",
      " |-- UTILITIES_PROCEED: string (nullable = true)\n",
      " |-- PAYROLL_PROCEED: string (nullable = true)\n",
      " |-- MORTGAGE_INTEREST_PROCEED: string (nullable = true)\n",
      " |-- RENT_PROCEED: string (nullable = true)\n",
      " |-- REFINANCE_EIDL_PROCEED: string (nullable = true)\n",
      " |-- HEALTH_CARE_PROCEED: string (nullable = true)\n",
      " |-- DEBT_INTEREST_PROCEED: string (nullable = true)\n",
      " |-- BusinessType: string (nullable = true)\n",
      " |-- OriginatingLenderLocationID: string (nullable = true)\n",
      " |-- OriginatingLender: string (nullable = true)\n",
      " |-- OriginatingLenderCity: string (nullable = true)\n",
      " |-- OriginatingLenderState: string (nullable = true)\n",
      " |-- Gender: string (nullable = true)\n",
      " |-- Veteran: string (nullable = true)\n",
      " |-- NonProfit: string (nullable = true)\n",
      " |-- ForgivenessAmount: string (nullable = true)\n",
      " |-- ForgivenessDate_Year: string (nullable = true)\n",
      " |-- ForgivenessDate_Month: string (nullable = true)\n",
      " |-- ForgivenessDate_Day: string (nullable = true)\n",
      "\n"
     ]
    }
   ],
   "source": [
    "#look at schema\n",
    "relief.printSchema()"
   ]
  },
  {
   "cell_type": "code",
   "execution_count": 5,
   "id": "dd4e98d2",
   "metadata": {},
   "outputs": [],
   "source": [
    "#extract features of interest\n",
    "relief = relief.select(\"LoanNumber\",\n",
    "                       \"DateApproved_Year\",\n",
    "                       \"DateApproved_Month\",\n",
    "                       \"LoanStatusDate_Year\",\n",
    "                       \"LoanStatusDate_Month\",\n",
    "                       \"ProcessingMethod\",\n",
    "                       \"LoanStatus\",\n",
    "                       \"Term\",\n",
    "                       \"InitialApprovalAmount\",\n",
    "                       \"CurrentApprovalAmount\",\n",
    "                       \"UndisbursedAmount\",\n",
    "                       \"FranchiseName\",\n",
    "                       \"BusinessAgeDescription\",\n",
    "                       \"ProjectCity\",\n",
    "                       \"ProjectCountyName\",\n",
    "                       \"ProjectState\",\n",
    "                       \"ProjectZip\",\n",
    "                       \"CD\",\n",
    "                       \"JobsReported\",\n",
    "                       \"UTILITIES_PROCEED\",\n",
    "                       \"PAYROLL_PROCEED\",\n",
    "                       \"MORTGAGE_INTEREST_PROCEED\",\n",
    "                       \"RENT_PROCEED\",\n",
    "                       \"REFINANCE_EIDL_PROCEED\",\n",
    "                       \"HEALTH_CARE_PROCEED\",\n",
    "                       \"DEBT_INTEREST_PROCEED\",\n",
    "                       \"BusinessType\",\n",
    "                       \"ForgivenessAmount\",\n",
    "                       \"ForgivenessDate_Year\",\n",
    "                       \"ForgivenessDate_Month\")"
   ]
  },
  {
   "cell_type": "code",
   "execution_count": 6,
   "id": "fcd9660e",
   "metadata": {},
   "outputs": [],
   "source": [
    "relief.createOrReplaceTempView(\"relief\")"
   ]
  },
  {
   "cell_type": "code",
   "execution_count": 7,
   "id": "1b53a8d7",
   "metadata": {},
   "outputs": [
    {
     "data": {
      "text/plain": [
       "734833"
      ]
     },
     "execution_count": 7,
     "metadata": {},
     "output_type": "execute_result"
    }
   ],
   "source": [
    "#how many loans are in dataset\n",
    "relief.count()"
   ]
  },
  {
   "cell_type": "markdown",
   "id": "3cfa5a6c",
   "metadata": {},
   "source": [
    "We want to generate statistics for boroughs, so we use zip as an identifying key for each borough."
   ]
  },
  {
   "cell_type": "code",
   "execution_count": 8,
   "id": "3d1f8d05",
   "metadata": {},
   "outputs": [
    {
     "name": "stdout",
     "output_type": "stream",
     "text": [
      "+----------+-----+\n",
      "|ProjectZip|count|\n",
      "+----------+-----+\n",
      "|11374-4653|    1|\n",
      "|11207-6045|    1|\n",
      "|11435-4016|    1|\n",
      "|13206-2111|    1|\n",
      "|11235-8434|    1|\n",
      "|11217-2576|    1|\n",
      "|10461-1007|    1|\n",
      "|11368-1020|    1|\n",
      "|10456-5521|    1|\n",
      "|11516-1430|    1|\n",
      "|11514-1314|    1|\n",
      "|11413-2930|    1|\n",
      "|11377-1317|    1|\n",
      "|10704-2427|    1|\n",
      "|10598-3200|    1|\n",
      "|11207-3075|    1|\n",
      "|10473-3115|    1|\n",
      "|11216-3425|    1|\n",
      "|13905-3949|    1|\n",
      "|14850-5463|    1|\n",
      "+----------+-----+\n",
      "only showing top 20 rows\n",
      "\n"
     ]
    }
   ],
   "source": [
    "#use master data to clean zip code\n",
    "spark.sql(\"Select ProjectZip, Count(*) as count From Relief Group by ProjectZip ORDER BY count ASC\").show()"
   ]
  },
  {
   "cell_type": "markdown",
   "id": "84def636",
   "metadata": {},
   "source": [
    "Lots of random zip codes, let's standardize it"
   ]
  },
  {
   "cell_type": "code",
   "execution_count": 9,
   "id": "e8c9abf7",
   "metadata": {},
   "outputs": [],
   "source": [
    "#shorten zip to identifying first 5 #s\n",
    "relief = relief.withColumn('ProjectZip', relief.ProjectZip.substr(1,5))"
   ]
  },
  {
   "cell_type": "code",
   "execution_count": 10,
   "id": "0a490546",
   "metadata": {},
   "outputs": [
    {
     "data": {
      "text/plain": [
       "2017"
      ]
     },
     "execution_count": 10,
     "metadata": {},
     "output_type": "execute_result"
    }
   ],
   "source": [
    "#remaining unique zip codes\n",
    "relief.select(\"ProjectZip\").distinct().count()"
   ]
  },
  {
   "cell_type": "code",
   "execution_count": 11,
   "id": "e67dde3f",
   "metadata": {},
   "outputs": [],
   "source": [
    "#aggregate dictionary of zip codes mapped to NYC boroughs\n",
    "zips = {}\n",
    "with open(\"zipcodes.txt\") as f:\n",
    "    for line in f:\n",
    "        #each line has two zips matched to borough\n",
    "        line = line.strip().split()\n",
    "        for i in range(0,len(line),2):\n",
    "            zips[line[i]] = line[i+1]\n",
    "            \n",
    "zips_lst = list(zips.keys())\n",
    "\n",
    "#fetch all zip codes associated with borough\n",
    "def borough_zips(zips, borough):\n",
    "    lst = [key for key,value in zips.items() if value == borough]\n",
    "    return lst\n",
    "\n",
    "#zip codes by borough\n",
    "manhattan_zips = borough_zips(zips, \"Manhattan\")\n",
    "brooklyn_zips= borough_zips(zips, \"Brooklyn\")\n",
    "queen_zips = borough_zips(zips, \"Queens\")\n",
    "bronx_zips = borough_zips(zips, \"Bronx\")\n",
    "statenisland_zips = borough_zips(zips, \"Staten\")\n",
    "\n"
   ]
  },
  {
   "cell_type": "code",
   "execution_count": 12,
   "id": "5f96f3ec",
   "metadata": {},
   "outputs": [
    {
     "data": {
      "text/plain": [
       "384579"
      ]
     },
     "execution_count": 12,
     "metadata": {},
     "output_type": "execute_result"
    }
   ],
   "source": [
    "#filter out for only NYC loans (based on all NYC zips)\n",
    "relief = relief.filter(relief[\"ProjectZip\"].isin(zips_lst))\n",
    "\n",
    "relief.count()"
   ]
  },
  {
   "cell_type": "code",
   "execution_count": 13,
   "id": "d18e9672",
   "metadata": {},
   "outputs": [],
   "source": [
    "from pyspark.sql.functions import when\n",
    "\n",
    "#add extra column identifying exact  borough for all loans\n",
    "relief = relief.withColumn(\"Borough\", when(relief.ProjectZip.isin(manhattan_zips), \"Manhattan\")\n",
    "                                     .when(relief.ProjectZip.isin(brooklyn_zips), \"Brooklyn\")\n",
    "                                     .when(relief.ProjectZip.isin(queen_zips), \"Queens\")\n",
    "                                     .when(relief.ProjectZip.isin(bronx_zips), \"Bronx\")\n",
    "                                     .when(relief.ProjectZip.isin(statenisland_zips), \"Staten Island\"))"
   ]
  },
  {
   "cell_type": "markdown",
   "id": "8f37c142",
   "metadata": {},
   "source": [
    "Since we are looking at all the costs associated with running a business, let's examine the columns related to costs"
   ]
  },
  {
   "cell_type": "code",
   "execution_count": 14,
   "id": "f16ca485",
   "metadata": {},
   "outputs": [],
   "source": [
    "from pyspark.sql.types import IntegerType\n",
    "\n",
    "#all columns associated with costs\n",
    "costs = [\"UTILITIES_PROCEED\",\n",
    "         \"PAYROLL_PROCEED\",\n",
    "         \"MORTGAGE_INTEREST_PROCEED\",\n",
    "         \"RENT_PROCEED\",\n",
    "         \"REFINANCE_EIDL_PROCEED\",\n",
    "         \"HEALTH_CARE_PROCEED\",\n",
    "         \"DEBT_INTEREST_PROCEED\"]\n",
    "\n",
    "#cast columns to Integer Type\n",
    "for cost in costs:\n",
    "    relief = relief.withColumn(cost, relief[cost].cast(IntegerType()))"
   ]
  },
  {
   "cell_type": "code",
   "execution_count": 15,
   "id": "172ab04a",
   "metadata": {},
   "outputs": [
    {
     "data": {
      "text/plain": [
       "251761"
      ]
     },
     "execution_count": 15,
     "metadata": {},
     "output_type": "execute_result"
    }
   ],
   "source": [
    "#Examine null count \n",
    "relief.filter(relief[\"UTILITIES_PROCEED\"].isNull()).count()"
   ]
  },
  {
   "cell_type": "code",
   "execution_count": 16,
   "id": "5b3df9c7",
   "metadata": {},
   "outputs": [],
   "source": [
    "#fill all null values in cost columns with 0\n",
    "relief = relief.fillna(value = 0, subset = costs)"
   ]
  },
  {
   "cell_type": "code",
   "execution_count": 17,
   "id": "0977f834",
   "metadata": {},
   "outputs": [
    {
     "data": {
      "text/plain": [
       "0"
      ]
     },
     "execution_count": 17,
     "metadata": {},
     "output_type": "execute_result"
    }
   ],
   "source": [
    "#After filling NAN values, we have no more nulls\n",
    "relief.filter(relief[\"UTILITIES_PROCEED\"].isNull()).count()"
   ]
  },
  {
   "cell_type": "markdown",
   "id": "16281cf8",
   "metadata": {},
   "source": [
    "Let's add a new column \"Total\", describing the total of all columns associated with costs. We will use this for analyzing total business cost from the loan.  "
   ]
  },
  {
   "cell_type": "code",
   "execution_count": 18,
   "id": "c7ea8a7a",
   "metadata": {},
   "outputs": [],
   "source": [
    "from operator import add\n",
    "from functools import reduce\n",
    "\n",
    "#add all columns associated with cost\n",
    "relief = relief.withColumn(\"Total\", reduce(add, [relief[cost] for cost in costs]))"
   ]
  },
  {
   "cell_type": "markdown",
   "id": "12aca8f0",
   "metadata": {},
   "source": [
    "Since we're examining \"small businesses\", let's also filter for businesses that have less than or equal to 100 employees"
   ]
  },
  {
   "cell_type": "code",
   "execution_count": 19,
   "id": "d203b44f",
   "metadata": {},
   "outputs": [],
   "source": [
    "#filter out for rows with <=100 employees\n",
    "small_businesses = relief.filter(relief[\"JobsReported\"] <= 100)"
   ]
  },
  {
   "cell_type": "markdown",
   "id": "8d9096e1",
   "metadata": {},
   "source": [
    "There were also two different types of loans that could be taken out, I'll take a look at which is more common"
   ]
  },
  {
   "cell_type": "code",
   "execution_count": 20,
   "id": "62b16a72",
   "metadata": {},
   "outputs": [
    {
     "name": "stdout",
     "output_type": "stream",
     "text": [
      "+----------------+------+\n",
      "|ProcessingMethod|   num|\n",
      "+----------------+------+\n",
      "|             PPP|519985|\n",
      "|             PPS|214848|\n",
      "+----------------+------+\n",
      "\n"
     ]
    }
   ],
   "source": [
    "spark.sql(\"Select ProcessingMethod, COUNT(*) as num From relief GROUP BY ProcessingMethod ORDER BY num DESC\").show()"
   ]
  },
  {
   "cell_type": "markdown",
   "id": "c11fde2e",
   "metadata": {},
   "source": [
    "The first draw of the loan has much more entries, since we want to be fair in comparison, let's only examine loans from the first take."
   ]
  },
  {
   "cell_type": "code",
   "execution_count": 21,
   "id": "2936e0c6",
   "metadata": {},
   "outputs": [],
   "source": [
    "#filter out for first draw loans\n",
    "small_businesses = small_businesses.filter(small_businesses[\"ProcessingMethod\"] == \"PPP\")"
   ]
  },
  {
   "cell_type": "markdown",
   "id": "73a1d852",
   "metadata": {},
   "source": [
    "There are also a lot of different loan terms in the data. Again, to be consistent, let's look at the most common ones."
   ]
  },
  {
   "cell_type": "code",
   "execution_count": 22,
   "id": "9e1e586c",
   "metadata": {},
   "outputs": [
    {
     "name": "stdout",
     "output_type": "stream",
     "text": [
      "+----+------+\n",
      "|Term|   num|\n",
      "+----+------+\n",
      "|  60|441793|\n",
      "|  24|281483|\n",
      "|  59|  1972|\n",
      "|   3|  1373|\n",
      "|   4|  1246|\n",
      "|   2|   924|\n",
      "|   1|   786|\n",
      "|   5|   770|\n",
      "|   0|   702|\n",
      "|  41|   622|\n",
      "|  42|   404|\n",
      "|  34|   343|\n",
      "|  37|   341|\n",
      "|  36|   327|\n",
      "|  35|   237|\n",
      "|  38|   215|\n",
      "|  40|   203|\n",
      "|  58|   195|\n",
      "|  39|   134|\n",
      "|  43|   108|\n",
      "+----+------+\n",
      "only showing top 20 rows\n",
      "\n"
     ]
    }
   ],
   "source": [
    "spark.sql(\"Select Term, COUNT(*) as num From relief GROUP BY Term ORDER BY num DESC\").show()"
   ]
  },
  {
   "cell_type": "code",
   "execution_count": 23,
   "id": "3463e7be",
   "metadata": {},
   "outputs": [],
   "source": [
    "#filter out for terms in 24 or 64\n",
    "small_businesses = small_businesses.filter(small_businesses[\"Term\"].isin([\"24\", \"60\"]))"
   ]
  },
  {
   "cell_type": "code",
   "execution_count": 24,
   "id": "6b64dd01",
   "metadata": {},
   "outputs": [
    {
     "name": "stdout",
     "output_type": "stream",
     "text": [
      "+----+\n",
      "|Term|\n",
      "+----+\n",
      "|  60|\n",
      "|  24|\n",
      "+----+\n",
      "\n",
      "+----------------+\n",
      "|ProcessingMethod|\n",
      "+----------------+\n",
      "|             PPP|\n",
      "+----------------+\n",
      "\n"
     ]
    }
   ],
   "source": [
    "#examine resulting dataframe's distinct features\n",
    "small_businesses.select(\"Term\").distinct().show()\n",
    "small_businesses.select(\"ProcessingMethod\").distinct().show()"
   ]
  },
  {
   "cell_type": "code",
   "execution_count": 25,
   "id": "43cf3179",
   "metadata": {},
   "outputs": [],
   "source": [
    "#write out cleaned data\n",
    "pd_small_businesses = small_businesses.toPandas()\n",
    "pd_small_businesses.to_csv('cleaned_data/cleaned_PPP.csv')"
   ]
  }
 ],
 "metadata": {
  "kernelspec": {
   "display_name": "Python 3 (ipykernel)",
   "language": "python",
   "name": "python3"
  },
  "language_info": {
   "codemirror_mode": {
    "name": "ipython",
    "version": 3
   },
   "file_extension": ".py",
   "mimetype": "text/x-python",
   "name": "python",
   "nbconvert_exporter": "python",
   "pygments_lexer": "ipython3",
   "version": "3.9.12"
  }
 },
 "nbformat": 4,
 "nbformat_minor": 5
}
