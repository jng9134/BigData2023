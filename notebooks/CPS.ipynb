{
 "cells": [
  {
   "cell_type": "code",
   "execution_count": 1,
   "id": "97b93f45",
   "metadata": {},
   "outputs": [],
   "source": [
    "import numpy as np \n",
    "import matplotlib.pyplot as plt\n",
    "import pandas as pd"
   ]
  },
  {
   "cell_type": "code",
   "execution_count": 2,
   "id": "7271b227",
   "metadata": {},
   "outputs": [
    {
     "name": "stderr",
     "output_type": "stream",
     "text": [
      "Setting default log level to \"WARN\".\n",
      "To adjust logging level use sc.setLogLevel(newLevel). For SparkR, use setLogLevel(newLevel).\n",
      "23/04/25 22:43:09 INFO org.apache.spark.SparkEnv: Registering MapOutputTracker\n",
      "23/04/25 22:43:09 INFO org.apache.spark.SparkEnv: Registering BlockManagerMaster\n",
      "23/04/25 22:43:09 INFO org.apache.spark.SparkEnv: Registering BlockManagerMasterHeartbeat\n",
      "23/04/25 22:43:09 INFO org.apache.spark.SparkEnv: Registering OutputCommitCoordinator\n"
     ]
    }
   ],
   "source": [
    "from pyspark import SparkContext, SparkConf\n",
    "cf = SparkConf()\n",
    "cf.set(\"spark.submit.deployMode\",\"client\")\n",
    "sc = SparkContext.getOrCreate(cf)\n",
    "from pyspark.sql import SparkSession\n",
    "spark = SparkSession \\\n",
    "\t    .builder \\\n",
    "\t    .appName(\"Python Spark SQL basic example\") \\\n",
    "\t    .config(\"spark.some.config.option\", \"some-value\") \\\n",
    "\t    .getOrCreate()\n",
    "                          "
   ]
  },
  {
   "cell_type": "code",
   "execution_count": 3,
   "id": "e249a184",
   "metadata": {},
   "outputs": [
    {
     "name": "stderr",
     "output_type": "stream",
     "text": [
      "                                                                                \r"
     ]
    }
   ],
   "source": [
    "filepath = 'concat.csv'\n",
    "cps_df = spark.read.csv(path = filepath, header=True)"
   ]
  },
  {
   "cell_type": "code",
   "execution_count": 4,
   "id": "0baf77bf",
   "metadata": {},
   "outputs": [],
   "source": [
    "#for querying\n",
    "cps_df.createOrReplaceTempView(\"cps\")"
   ]
  },
  {
   "cell_type": "code",
   "execution_count": 5,
   "id": "0d367a7a",
   "metadata": {},
   "outputs": [],
   "source": [
    "from pyspark.sql.functions import col\n",
    "cps_df = cps_df.filter(~col(\"Demographics- race of respondent (PTDTRACE)\").contains(\"Total\"))"
   ]
  },
  {
   "cell_type": "code",
   "execution_count": 6,
   "id": "6be5d718",
   "metadata": {},
   "outputs": [],
   "source": [
    "cps_df = cps_df.filter(col(\"Total\") >  0)"
   ]
  },
  {
   "cell_type": "code",
   "execution_count": 7,
   "id": "47dc1c34",
   "metadata": {},
   "outputs": [
    {
     "name": "stderr",
     "output_type": "stream",
     "text": [
      "\r",
      "[Stage 1:>                                                          (0 + 1) / 1]\r"
     ]
    },
    {
     "name": "stdout",
     "output_type": "stream",
     "text": [
      "+---+-------------------------------------------+------+----------------------------------------+------------------+----------------+----------------+------------------------------------------+-------------------------------+-----------+----+-----+---------+--------------------+\n",
      "|_c0|Demographics- race of respondent (PTDTRACE)| Total|In Universe, Met No Conditions To Assign|Federal government|State government|Local government|Private (incl. Incorporated self employed)|Self-Employed, (unincorporated)|Without pay|Year|Month|  Borough|              Sector|\n",
      "+---+-------------------------------------------+------+----------------------------------------+------------------+----------------+----------------+------------------------------------------+-------------------------------+-----------+----+-----+---------+--------------------+\n",
      "|  3|                                 White only|175794|                                  175794|                 0|               0|               0|                                         0|                              0|          0|  19|march|The Bronx|         No Category|\n",
      "|  4|                                 Black only|282986|                                  282986|                 0|               0|               0|                                         0|                              0|          0|  19|march|The Bronx|         No Category|\n",
      "|  5|                       American Indian, ...| 19252|                                   19252|                 0|               0|               0|                                         0|                              0|          0|  19|march|The Bronx|         No Category|\n",
      "|  6|                                 Asian only|  3356|                                    3356|                 0|               0|               0|                                         0|                              0|          0|  19|march|The Bronx|         No Category|\n",
      "|  8|                                White-Black|  6320|                                    6320|                 0|               0|               0|                                         0|                              0|          0|  19|march|The Bronx|         No Category|\n",
      "| 30|                                 White only| 43539|                                       0|                 0|               0|               0|                                     43539|                              0|          0|  19|march|The Bronx|          Management|\n",
      "| 31|                                 Black only| 40395|                                       0|                 0|               0|            5020|                                     35375|                              0|          0|  19|march|The Bronx|          Management|\n",
      "| 57|                                 White only|  8806|                                       0|                 0|               0|            4229|                                      4577|                              0|          0|  19|march|The Bronx|    Business/Finance|\n",
      "| 58|                                 Black only|  7426|                                       0|                 0|               0|               0|                                      7426|                              0|          0|  19|march|The Bronx|    Business/Finance|\n",
      "| 84|                                 White only|  8696|                                       0|                 0|               0|               0|                                      8696|                              0|          0|  19|march|The Bronx|Computer/Math/Sci...|\n",
      "|138|                                 White only|  3678|                                       0|                 0|               0|               0|                                      3678|                              0|          0|  19|march|The Bronx|Life/Physical/Social|\n",
      "|165|                                 White only|  8265|                                       0|                 0|               0|               0|                                      8265|                              0|          0|  19|march|The Bronx|           Community|\n",
      "|166|                                 Black only|  7337|                                       0|                 0|               0|            3929|                                      3408|                              0|          0|  19|march|The Bronx|           Community|\n",
      "|219|                                 White only| 36936|                                       0|                 0|           10349|            8795|                                     17792|                              0|          0|  19|march|The Bronx|Education/Trainin...|\n",
      "|220|                                 Black only| 20154|                                       0|                 0|            7224|            4945|                                      7985|                              0|          0|  19|march|The Bronx|Education/Trainin...|\n",
      "|221|                       American Indian, ...|  8302|                                       0|                 0|            8302|               0|                                         0|                              0|          0|  19|march|The Bronx|Education/Trainin...|\n",
      "|224|                                White-Black| 11731|                                       0|                 0|               0|            5993|                                      5738|                              0|          0|  19|march|The Bronx|Education/Trainin...|\n",
      "|246|                                 White only|  8433|                                       0|                 0|               0|               0|                                      8433|                              0|          0|  19|march|The Bronx|Arts/Design/Enter...|\n",
      "|273|                                 White only| 13320|                                       0|                 0|               0|            2997|                                     10323|                              0|          0|  19|march|The Bronx|Healthcare Practi...|\n",
      "|274|                                 Black only| 10458|                                       0|                 0|               0|               0|                                     10458|                              0|          0|  19|march|The Bronx|Healthcare Practi...|\n",
      "+---+-------------------------------------------+------+----------------------------------------+------------------+----------------+----------------+------------------------------------------+-------------------------------+-----------+----+-----+---------+--------------------+\n",
      "only showing top 20 rows\n",
      "\n"
     ]
    },
    {
     "name": "stderr",
     "output_type": "stream",
     "text": [
      "\r",
      "                                                                                \r"
     ]
    }
   ],
   "source": [
    "cps_df.show()"
   ]
  },
  {
   "cell_type": "code",
   "execution_count": 8,
   "id": "ca5d3fdd",
   "metadata": {},
   "outputs": [
    {
     "name": "stderr",
     "output_type": "stream",
     "text": [
      "                                                                                \r"
     ]
    }
   ],
   "source": [
    "cps_df.write.csv(\"cps_cleaned.csv\")"
   ]
  }
 ],
 "metadata": {
  "kernelspec": {
   "display_name": "Python 3 (ipykernel)",
   "language": "python",
   "name": "python3"
  },
  "language_info": {
   "codemirror_mode": {
    "name": "ipython",
    "version": 3
   },
   "file_extension": ".py",
   "mimetype": "text/x-python",
   "name": "python",
   "nbconvert_exporter": "python",
   "pygments_lexer": "ipython3",
   "version": "3.8.13"
  }
 },
 "nbformat": 4,
 "nbformat_minor": 5
}
