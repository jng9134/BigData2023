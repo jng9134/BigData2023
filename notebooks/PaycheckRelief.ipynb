{
 "cells": [
  {
   "cell_type": "code",
   "execution_count": 1,
   "id": "2bec9a22",
   "metadata": {},
   "outputs": [],
   "source": [
    "import numpy as np \n",
    "import matplotlib.pyplot as plt\n",
    "import pandas as pd"
   ]
  },
  {
   "cell_type": "code",
   "execution_count": 2,
   "id": "2631ab8e",
   "metadata": {},
   "outputs": [
    {
     "name": "stderr",
     "output_type": "stream",
     "text": [
      "Setting default log level to \"WARN\".\n",
      "To adjust logging level use sc.setLogLevel(newLevel). For SparkR, use setLogLevel(newLevel).\n",
      "23/04/27 21:55:51 INFO org.apache.spark.SparkEnv: Registering MapOutputTracker\n",
      "23/04/27 21:55:51 INFO org.apache.spark.SparkEnv: Registering BlockManagerMaster\n",
      "23/04/27 21:55:51 INFO org.apache.spark.SparkEnv: Registering BlockManagerMasterHeartbeat\n",
      "23/04/27 21:55:51 INFO org.apache.spark.SparkEnv: Registering OutputCommitCoordinator\n"
     ]
    }
   ],
   "source": [
    "from pyspark import SparkContext, SparkConf\n",
    "cf = SparkConf()\n",
    "cf.set(\"spark.submit.deployMode\",\"client\")\n",
    "sc = SparkContext.getOrCreate(cf)\n",
    "from pyspark.sql import SparkSession\n",
    "spark = SparkSession \\\n",
    "\t    .builder \\\n",
    "\t    .appName(\"Python Spark SQL basic example\") \\\n",
    "\t    .config(\"spark.some.config.option\", \"some-value\") \\\n",
    "\t    .getOrCreate()\n",
    "                          "
   ]
  },
  {
   "cell_type": "code",
   "execution_count": 3,
   "id": "b3db2587",
   "metadata": {},
   "outputs": [
    {
     "name": "stderr",
     "output_type": "stream",
     "text": [
      "23/04/27 21:56:19 WARN org.apache.spark.scheduler.cluster.YarnScheduler: Initial job has not accepted any resources; check your cluster UI to ensure that workers are registered and have sufficient resources\n",
      "23/04/27 21:56:34 WARN org.apache.spark.scheduler.cluster.YarnScheduler: Initial job has not accepted any resources; check your cluster UI to ensure that workers are registered and have sufficient resources\n",
      "                                                                                \r"
     ]
    }
   ],
   "source": [
    "filepath = 'COVID-19_Relief_Paycheck_Protection_Program.csv'\n",
    "relief = spark.read.csv(path = filepath, header=True)"
   ]
  },
  {
   "cell_type": "code",
   "execution_count": 4,
   "id": "244ce2d8",
   "metadata": {},
   "outputs": [
    {
     "name": "stdout",
     "output_type": "stream",
     "text": [
      "root\n",
      " |-- LoanNumber: string (nullable = true)\n",
      " |-- DateApproved_Year: string (nullable = true)\n",
      " |-- DateApproved_Month: string (nullable = true)\n",
      " |-- DateApproved_Day: string (nullable = true)\n",
      " |-- SBAOfficeCode: string (nullable = true)\n",
      " |-- ProcessingMethod: string (nullable = true)\n",
      " |-- BorrowerName: string (nullable = true)\n",
      " |-- BorrowerAddress: string (nullable = true)\n",
      " |-- BorrowerCity: string (nullable = true)\n",
      " |-- BorrowerState: string (nullable = true)\n",
      " |-- BorrowerZip: string (nullable = true)\n",
      " |-- LoanStatusDate_Year: string (nullable = true)\n",
      " |-- LoanStatusDate_Month: string (nullable = true)\n",
      " |-- LoanStatusDate_Day: string (nullable = true)\n",
      " |-- LoanStatus: string (nullable = true)\n",
      " |-- Term: string (nullable = true)\n",
      " |-- SBAGuarantyPercentage: string (nullable = true)\n",
      " |-- InitialApprovalAmount: string (nullable = true)\n",
      " |-- CurrentApprovalAmount: string (nullable = true)\n",
      " |-- UndisbursedAmount: string (nullable = true)\n",
      " |-- FranchiseName: string (nullable = true)\n",
      " |-- ServicingLenderLocationID: string (nullable = true)\n",
      " |-- ServicingLenderName: string (nullable = true)\n",
      " |-- ServicingLenderAddress: string (nullable = true)\n",
      " |-- ServicingLenderCity: string (nullable = true)\n",
      " |-- ServicingLenderState: string (nullable = true)\n",
      " |-- ServicingLenderZip: string (nullable = true)\n",
      " |-- RuralUrbanIndicator: string (nullable = true)\n",
      " |-- HubzoneIndicator: string (nullable = true)\n",
      " |-- LMIIndicator: string (nullable = true)\n",
      " |-- BusinessAgeDescription: string (nullable = true)\n",
      " |-- ProjectCity: string (nullable = true)\n",
      " |-- ProjectCountyName: string (nullable = true)\n",
      " |-- ProjectState: string (nullable = true)\n",
      " |-- ProjectZip: string (nullable = true)\n",
      " |-- CD: string (nullable = true)\n",
      " |-- JobsReported: string (nullable = true)\n",
      " |-- NAICSCode: string (nullable = true)\n",
      " |-- Race: string (nullable = true)\n",
      " |-- Ethnicity: string (nullable = true)\n",
      " |-- UTILITIES_PROCEED: string (nullable = true)\n",
      " |-- PAYROLL_PROCEED: string (nullable = true)\n",
      " |-- MORTGAGE_INTEREST_PROCEED: string (nullable = true)\n",
      " |-- RENT_PROCEED: string (nullable = true)\n",
      " |-- REFINANCE_EIDL_PROCEED: string (nullable = true)\n",
      " |-- HEALTH_CARE_PROCEED: string (nullable = true)\n",
      " |-- DEBT_INTEREST_PROCEED: string (nullable = true)\n",
      " |-- BusinessType: string (nullable = true)\n",
      " |-- OriginatingLenderLocationID: string (nullable = true)\n",
      " |-- OriginatingLender: string (nullable = true)\n",
      " |-- OriginatingLenderCity: string (nullable = true)\n",
      " |-- OriginatingLenderState: string (nullable = true)\n",
      " |-- Gender: string (nullable = true)\n",
      " |-- Veteran: string (nullable = true)\n",
      " |-- NonProfit: string (nullable = true)\n",
      " |-- ForgivenessAmount: string (nullable = true)\n",
      " |-- ForgivenessDate_Year: string (nullable = true)\n",
      " |-- ForgivenessDate_Month: string (nullable = true)\n",
      " |-- ForgivenessDate_Day: string (nullable = true)\n",
      "\n"
     ]
    }
   ],
   "source": [
    "relief.printSchema()"
   ]
  },
  {
   "cell_type": "code",
   "execution_count": 5,
   "id": "dd4e98d2",
   "metadata": {},
   "outputs": [],
   "source": [
    "relief = relief.select(\"LoanNumber\",\n",
    "                       \"DateApproved_Year\",\n",
    "                       \"DateApproved_Month\",\n",
    "                       \"LoanStatusDate_Year\",\n",
    "                       \"LoanStatusDate_Month\",\n",
    "                       \"LoanStatus\",\n",
    "                       \"InitialApprovalAmount\",\n",
    "                       \"CurrentApprovalAmount\",\n",
    "                       \"UndisbursedAmount\",\n",
    "                       \"FranchiseName\",\n",
    "                       \"BusinessAgeDescription\",\n",
    "                       \"ProjectCity\",\n",
    "                       \"ProjectCountyName\",\n",
    "                       \"ProjectState\",\n",
    "                       \"ProjectZip\",\n",
    "                       \"CD\",\n",
    "                       \"JobsReported\",\n",
    "                       \"UTILITIES_PROCEED\",\n",
    "                       \"PAYROLL_PROCEED\",\n",
    "                       \"MORTGAGE_INTEREST_PROCEED\",\n",
    "                       \"RENT_PROCEED\",\n",
    "                       \"REFINANCE_EIDL_PROCEED\",\n",
    "                       \"HEALTH_CARE_PROCEED\",\n",
    "                       \"DEBT_INTEREST_PROCEED\",\n",
    "                       \"BusinessType\",\n",
    "                       \"ForgivenessAmount\",\n",
    "                       \"ForgivenessDate_Year\",\n",
    "                       \"ForgivenessDate_Month\")"
   ]
  },
  {
   "cell_type": "code",
   "execution_count": 6,
   "id": "fcd9660e",
   "metadata": {},
   "outputs": [
    {
     "name": "stderr",
     "output_type": "stream",
     "text": [
      "23/04/27 21:56:44 WARN org.apache.spark.sql.catalyst.util.package: Truncated the string representation of a plan since it was too large. This behavior can be adjusted by setting 'spark.sql.debug.maxToStringFields'.\n"
     ]
    }
   ],
   "source": [
    "#for querying\n",
    "relief.createOrReplaceTempView(\"relief\")"
   ]
  },
  {
   "cell_type": "code",
   "execution_count": 7,
   "id": "1b53a8d7",
   "metadata": {},
   "outputs": [
    {
     "name": "stderr",
     "output_type": "stream",
     "text": [
      "                                                                                \r"
     ]
    },
    {
     "data": {
      "text/plain": [
       "734833"
      ]
     },
     "execution_count": 7,
     "metadata": {},
     "output_type": "execute_result"
    }
   ],
   "source": [
    "relief.count()"
   ]
  },
  {
   "cell_type": "code",
   "execution_count": 8,
   "id": "3d1f8d05",
   "metadata": {},
   "outputs": [
    {
     "name": "stderr",
     "output_type": "stream",
     "text": [
      "[Stage 4:============================================>              (6 + 2) / 8]\r"
     ]
    },
    {
     "name": "stdout",
     "output_type": "stream",
     "text": [
      "+----------+-----+\n",
      "|ProjectZip|count|\n",
      "+----------+-----+\n",
      "|13021-9412|    1|\n",
      "|10468-8109|    1|\n",
      "|10462-6525|    1|\n",
      "|10035-4047|    1|\n",
      "|10460-5677|    1|\n",
      "|10453-4645|    1|\n",
      "|10468-2717|    1|\n",
      "|11372-6853|    1|\n",
      "|11520-2539|    1|\n",
      "|11232-4096|    1|\n",
      "|10456-5607|    1|\n",
      "|10035-4206|    1|\n",
      "|12095-3763|    1|\n",
      "|11550-6616|    1|\n",
      "|11223-1379|    1|\n",
      "|11237-3828|    1|\n",
      "|11520-5138|    1|\n",
      "|11224-3134|    1|\n",
      "|12986-1637|    1|\n",
      "|11706-2309|    1|\n",
      "+----------+-----+\n",
      "only showing top 20 rows\n",
      "\n"
     ]
    },
    {
     "name": "stderr",
     "output_type": "stream",
     "text": [
      "\r",
      "[Stage 6:>                                                          (0 + 9) / 9]\r",
      "\r",
      "                                                                                \r"
     ]
    }
   ],
   "source": [
    "#use master data to clean \n",
    "spark.sql(\"Select ProjectZip, Count(*) as count From Relief Group by ProjectZip ORDER BY count ASC\").show()"
   ]
  },
  {
   "cell_type": "code",
   "execution_count": 9,
   "id": "e8c9abf7",
   "metadata": {},
   "outputs": [],
   "source": [
    "#shorten zip to identifying first 5 #s\n",
    "relief = relief.withColumn('ProjectZip', relief.ProjectZip.substr(1,5))"
   ]
  },
  {
   "cell_type": "code",
   "execution_count": 10,
   "id": "0a490546",
   "metadata": {},
   "outputs": [
    {
     "name": "stderr",
     "output_type": "stream",
     "text": [
      "                                                                                \r"
     ]
    },
    {
     "data": {
      "text/plain": [
       "2017"
      ]
     },
     "execution_count": 10,
     "metadata": {},
     "output_type": "execute_result"
    }
   ],
   "source": [
    "relief.select(\"ProjectZip\").distinct().count()"
   ]
  },
  {
   "cell_type": "code",
   "execution_count": 11,
   "id": "e67dde3f",
   "metadata": {},
   "outputs": [],
   "source": [
    "#aggregate dictionary of zip codes mapped to NYC boroughs\n",
    "zips = {}\n",
    "with open(\"zipcodes.txt\") as f:\n",
    "    for line in f:\n",
    "        line = line.strip().split()\n",
    "        for i in range(0,len(line),2):\n",
    "            zips[line[i]] = line[i+1]\n",
    "            \n",
    "zips_lst = list(zips.keys())\n",
    "\n",
    "#fetch all zip codes associated with borough\n",
    "def borough_zips(zips, borough):\n",
    "    lst = [key for key,value in zips.items() if value == borough]\n",
    "    return lst\n",
    "\n",
    "#zip codes by borough\n",
    "manhattan_zips = borough_zips(zips, \"Manhattan\")\n",
    "brooklyn_zips= borough_zips(zips, \"Brooklyn\")\n",
    "queen_zips = borough_zips(zips, \"Queens\")\n",
    "bronx_zips = borough_zips(zips, \"Bronx\")\n",
    "statenisland_zips = borough_zips(zips, \"Staten\")\n",
    "\n"
   ]
  },
  {
   "cell_type": "code",
   "execution_count": 12,
   "id": "5f96f3ec",
   "metadata": {},
   "outputs": [
    {
     "name": "stderr",
     "output_type": "stream",
     "text": [
      "                                                                                \r"
     ]
    },
    {
     "data": {
      "text/plain": [
       "384579"
      ]
     },
     "execution_count": 12,
     "metadata": {},
     "output_type": "execute_result"
    }
   ],
   "source": [
    "#filter out for only NYC cases\n",
    "relief = relief.filter(relief[\"ProjectZip\"].isin(zips_lst))\n",
    "\n",
    "relief.count()"
   ]
  },
  {
   "cell_type": "code",
   "execution_count": 13,
   "id": "d18e9672",
   "metadata": {},
   "outputs": [],
   "source": [
    "from pyspark.sql.functions import when\n",
    "\n",
    "relief = relief.withColumn(\"Borough\", when(relief.ProjectZip.isin(manhattan_zips), \"Manhattan\")\n",
    "                                     .when(relief.ProjectZip.isin(brooklyn_zips), \"Brooklyn\")\n",
    "                                     .when(relief.ProjectZip.isin(queen_zips), \"Queens\")\n",
    "                                     .when(relief.ProjectZip.isin(bronx_zips), \"Bronx\")\n",
    "                                     .when(relief.ProjectZip.isin(statenisland_zips), \"Staten Island\"))"
   ]
  },
  {
   "cell_type": "code",
   "execution_count": 14,
   "id": "f16ca485",
   "metadata": {},
   "outputs": [],
   "source": [
    "from pyspark.sql.types import IntegerType\n",
    "\n",
    "#all columns associated with costs\n",
    "costs = [\"UTILITIES_PROCEED\",\n",
    "         \"PAYROLL_PROCEED\",\n",
    "         \"MORTGAGE_INTEREST_PROCEED\",\n",
    "         \"RENT_PROCEED\",\n",
    "         \"REFINANCE_EIDL_PROCEED\",\n",
    "         \"HEALTH_CARE_PROCEED\",\n",
    "         \"DEBT_INTEREST_PROCEED\"]\n",
    "\n",
    "#cast columns to Integer Type\n",
    "for cost in costs:\n",
    "    relief = relief.withColumn(cost, relief[cost].cast(IntegerType()))"
   ]
  },
  {
   "cell_type": "code",
   "execution_count": 15,
   "id": "172ab04a",
   "metadata": {},
   "outputs": [
    {
     "name": "stderr",
     "output_type": "stream",
     "text": [
      "                                                                                \r"
     ]
    },
    {
     "data": {
      "text/plain": [
       "251761"
      ]
     },
     "execution_count": 15,
     "metadata": {},
     "output_type": "execute_result"
    }
   ],
   "source": [
    "#before\n",
    "relief.filter(relief[\"UTILITIES_PROCEED\"].isNull()).count()"
   ]
  },
  {
   "cell_type": "code",
   "execution_count": 16,
   "id": "5b3df9c7",
   "metadata": {},
   "outputs": [],
   "source": [
    "#fill all null values in cost columns with 0\n",
    "relief = relief.fillna(value = 0, subset = costs)"
   ]
  },
  {
   "cell_type": "code",
   "execution_count": 17,
   "id": "0977f834",
   "metadata": {},
   "outputs": [
    {
     "data": {
      "text/plain": [
       "0"
      ]
     },
     "execution_count": 17,
     "metadata": {},
     "output_type": "execute_result"
    }
   ],
   "source": [
    "#after\n",
    "relief.filter(relief[\"UTILITIES_PROCEED\"].isNull()).count()"
   ]
  },
  {
   "cell_type": "code",
   "execution_count": 18,
   "id": "c7ea8a7a",
   "metadata": {},
   "outputs": [],
   "source": [
    "from operator import add\n",
    "from functools import reduce\n",
    "relief = relief.withColumn(\"Total\", reduce(add, [relief[cost] for cost in costs]))"
   ]
  },
  {
   "cell_type": "code",
   "execution_count": 19,
   "id": "d203b44f",
   "metadata": {},
   "outputs": [],
   "source": [
    "small_businesses = relief.filter(relief[\"JobsReported\"] <= 100)"
   ]
  },
  {
   "cell_type": "code",
   "execution_count": 21,
   "id": "43cf3179",
   "metadata": {},
   "outputs": [
    {
     "name": "stderr",
     "output_type": "stream",
     "text": [
      "                                                                                \r"
     ]
    }
   ],
   "source": [
    "small_businesses.write.option(\"header\", \"true\").csv(\"cleaned_PPP.csv\")"
   ]
  }
 ],
 "metadata": {
  "kernelspec": {
   "display_name": "Python 3 (ipykernel)",
   "language": "python",
   "name": "python3"
  },
  "language_info": {
   "codemirror_mode": {
    "name": "ipython",
    "version": 3
   },
   "file_extension": ".py",
   "mimetype": "text/x-python",
   "name": "python",
   "nbconvert_exporter": "python",
   "pygments_lexer": "ipython3",
   "version": "3.8.13"
  }
 },
 "nbformat": 4,
 "nbformat_minor": 5
}
